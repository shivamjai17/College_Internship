{
 "cells": [
  {
   "cell_type": "code",
   "execution_count": 1,
   "metadata": {},
   "outputs": [],
   "source": [
    "import requests\n",
    "from bs4 import BeautifulSoup\n",
    "import pandas as pd"
   ]
  },
  {
   "cell_type": "code",
   "execution_count": null,
   "metadata": {},
   "outputs": [],
   "source": [
    "name=[]\n",
    "price=[]\n",
    "MRP=[]\n",
    "ave=[]\n",
    "    imglink=[]"
   ]
  },
  {
   "cell_type": "code",
   "execution_count": 13,
   "metadata": {},
   "outputs": [
    {
     "name": "stdout",
     "output_type": "stream",
     "text": [
      "503\n",
      "503\n",
      "503\n",
      "503\n",
      "503\n",
      "200\n",
      "503\n",
      "503\n",
      "503\n"
     ]
    }
   ],
   "source": [
    "for i in range(1,10):\n",
    "    url='https://www.amazon.in/s?k=Mobile&page=2&qid=1627358128&ref=sr_pg_'+str(i)\n",
    "    res=requests.get(url)\n",
    "    if res.status_code==200:\n",
    "          soup=BeautifulSoup(resp.content,'html.parser')\n",
    "    item=soup.find_all('div',attrs={'data-component-type':'s-search-result'})\n",
    " \n",
    "    for i in item:\n",
    "        a=i.find('span',attrs={'class':\"a-size-medium a-color-base a-text-normal\"})\n",
    "        name.append(a.text)\n",
    "        b=i.find('span',attrs={'class':\"a-price-whole\"})\n",
    "        if b:\n",
    "            price.append(b.text)\n",
    "        else:\n",
    "            pass\n",
    "        c=i.find('span',attrs={'class':\"a-price-whole\"})\n",
    "        if c:\n",
    "            MRP.append(c.text)\n",
    "        else:\n",
    "            pass\n",
    "        d=i.find('span',attrs={'class':\"a-size-base\"})\n",
    "        if d:\n",
    "            Save.append(d.text)\n",
    "        else:\n",
    "            pass\n",
    "        e=i.find('img',attrs={'class':\"s-image\"})\n",
    "        imglink.append(e.get('src'))"
   ]
  }
 ],
 "metadata": {
  "kernelspec": {
   "display_name": "Python 3",
   "language": "python",
   "name": "python3"
  },
  "language_info": {
   "codemirror_mode": {
    "name": "ipython",
    "version": 3
   },
   "file_extension": ".py",
   "mimetype": "text/x-python",
   "name": "python",
   "nbconvert_exporter": "python",
   "pygments_lexer": "ipython3",
   "version": "3.8.3"
  }
 },
 "nbformat": 4,
 "nbformat_minor": 4
}
